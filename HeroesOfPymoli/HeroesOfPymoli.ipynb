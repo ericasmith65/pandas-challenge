{
 "cells": [
  {
   "cell_type": "markdown",
   "metadata": {},
   "source": [
    "### Note\n",
    "* Instructions have been included for each segment. You do not have to follow them exactly, but they are included to help you think through the steps."
   ]
  },
  {
   "cell_type": "code",
   "execution_count": 51,
   "metadata": {},
   "outputs": [
    {
     "output_type": "execute_result",
     "data": {
      "text/plain": [
       "   Purchase ID             SN  Age Gender  Item ID  \\\n",
       "0            0        Lisim78   20   Male      108   \n",
       "1            1    Lisovynya38   40   Male      143   \n",
       "2            2     Ithergue48   24   Male       92   \n",
       "3            3  Chamassasya86   24   Male      100   \n",
       "4            4      Iskosia90   23   Male      131   \n",
       "\n",
       "                                   Item Name  Price  \n",
       "0  Extraction, Quickblade Of Trembling Hands   3.53  \n",
       "1                          Frenzied Scimitar   1.56  \n",
       "2                               Final Critic   4.88  \n",
       "3                                Blindscythe   3.27  \n",
       "4                                       Fury   1.44  "
      ],
      "text/html": "<div>\n<style scoped>\n    .dataframe tbody tr th:only-of-type {\n        vertical-align: middle;\n    }\n\n    .dataframe tbody tr th {\n        vertical-align: top;\n    }\n\n    .dataframe thead th {\n        text-align: right;\n    }\n</style>\n<table border=\"1\" class=\"dataframe\">\n  <thead>\n    <tr style=\"text-align: right;\">\n      <th></th>\n      <th>Purchase ID</th>\n      <th>SN</th>\n      <th>Age</th>\n      <th>Gender</th>\n      <th>Item ID</th>\n      <th>Item Name</th>\n      <th>Price</th>\n    </tr>\n  </thead>\n  <tbody>\n    <tr>\n      <th>0</th>\n      <td>0</td>\n      <td>Lisim78</td>\n      <td>20</td>\n      <td>Male</td>\n      <td>108</td>\n      <td>Extraction, Quickblade Of Trembling Hands</td>\n      <td>3.53</td>\n    </tr>\n    <tr>\n      <th>1</th>\n      <td>1</td>\n      <td>Lisovynya38</td>\n      <td>40</td>\n      <td>Male</td>\n      <td>143</td>\n      <td>Frenzied Scimitar</td>\n      <td>1.56</td>\n    </tr>\n    <tr>\n      <th>2</th>\n      <td>2</td>\n      <td>Ithergue48</td>\n      <td>24</td>\n      <td>Male</td>\n      <td>92</td>\n      <td>Final Critic</td>\n      <td>4.88</td>\n    </tr>\n    <tr>\n      <th>3</th>\n      <td>3</td>\n      <td>Chamassasya86</td>\n      <td>24</td>\n      <td>Male</td>\n      <td>100</td>\n      <td>Blindscythe</td>\n      <td>3.27</td>\n    </tr>\n    <tr>\n      <th>4</th>\n      <td>4</td>\n      <td>Iskosia90</td>\n      <td>23</td>\n      <td>Male</td>\n      <td>131</td>\n      <td>Fury</td>\n      <td>1.44</td>\n    </tr>\n  </tbody>\n</table>\n</div>"
     },
     "metadata": {},
     "execution_count": 51
    }
   ],
   "source": [
    "# Dependencies and Setup\n",
    "import pandas as pd\n",
    "import numpy as np\n",
    "# File to Load (Remember to Change These)\n",
    "file_to_load = \"purchase_data.csv\"\n",
    "\n",
    "# Read Purchasing File and store into Pandas data frame\n",
    "purchase_data_df = pd.read_csv(file_to_load)\n",
    "purchase_data_df.head()"
   ]
  },
  {
   "cell_type": "markdown",
   "metadata": {},
   "source": [
    "## Player Count"
   ]
  },
  {
   "cell_type": "markdown",
   "metadata": {},
   "source": [
    "* Display the total number of players\n"
   ]
  },
  {
   "cell_type": "code",
   "execution_count": 52,
   "metadata": {},
   "outputs": [
    {
     "output_type": "execute_result",
     "data": {
      "text/plain": [
       "'Total number of players: 576'"
      ]
     },
     "metadata": {},
     "execution_count": 52
    }
   ],
   "source": [
    "# remove duplicate players\n",
    "players_list = purchase_data_df[\"SN\"].unique()\n",
    "# count total number of players\n",
    "number_of_players = len(players_list)\n",
    "f\"Total number of players: {number_of_players}\""
   ]
  },
  {
   "cell_type": "markdown",
   "metadata": {},
   "source": [
    "## Purchasing Analysis (Total)"
   ]
  },
  {
   "cell_type": "markdown",
   "metadata": {},
   "source": [
    "* Run basic calculations to obtain number of unique items, average price, etc.\n",
    "\n",
    "\n",
    "* Create a summary data frame to hold the results\n",
    "\n",
    "\n",
    "* Optional: give the displayed data cleaner formatting\n",
    "\n",
    "\n",
    "* Display the summary data frame\n"
   ]
  },
  {
   "cell_type": "code",
   "execution_count": 53,
   "metadata": {
    "scrolled": true
   },
   "outputs": [],
   "source": [
    "# remove duplicate items\n",
    "items_list = purchase_data_df[\"Item ID\"].unique()\n",
    "# calculate total number of unique items\n",
    "number_of_items = len(items_list)\n",
    "# calculate average price from all transactions\n",
    "average_price = round(purchase_data_df[\"Price\"].mean(), 2)\n",
    "# calculate total number of purchases\n",
    "purchases = len(purchase_data_df[\"Purchase ID\"])\n",
    "# calculate the sum of all purchases\n",
    "revenue = purchase_data_df[\"Price\"].sum()"
   ]
  },
  {
   "cell_type": "code",
   "execution_count": 54,
   "metadata": {},
   "outputs": [
    {
     "output_type": "execute_result",
     "data": {
      "text/plain": [
       "   Total Number of Players  Total Number of Unique Items  \\\n",
       "0                      576                           179   \n",
       "\n",
       "   Average Purchase Price  Total Number of Purchases  Total Revenue  \n",
       "0                    3.05                        780        2379.77  "
      ],
      "text/html": "<div>\n<style scoped>\n    .dataframe tbody tr th:only-of-type {\n        vertical-align: middle;\n    }\n\n    .dataframe tbody tr th {\n        vertical-align: top;\n    }\n\n    .dataframe thead th {\n        text-align: right;\n    }\n</style>\n<table border=\"1\" class=\"dataframe\">\n  <thead>\n    <tr style=\"text-align: right;\">\n      <th></th>\n      <th>Total Number of Players</th>\n      <th>Total Number of Unique Items</th>\n      <th>Average Purchase Price</th>\n      <th>Total Number of Purchases</th>\n      <th>Total Revenue</th>\n    </tr>\n  </thead>\n  <tbody>\n    <tr>\n      <th>0</th>\n      <td>576</td>\n      <td>179</td>\n      <td>3.05</td>\n      <td>780</td>\n      <td>2379.77</td>\n    </tr>\n  </tbody>\n</table>\n</div>"
     },
     "metadata": {},
     "execution_count": 54
    }
   ],
   "source": [
    "#create summary dataframe for results\n",
    "summary_table_df = pd.DataFrame({\"Total Number of Players\": number_of_players, \"Total Number of Unique Items\": number_of_items,\n",
    "                    \"Average Purchase Price\": average_price,\n",
    "                    \"Total Number of Purchases\": purchases,\n",
    "                    \"Total Revenue\": revenue}, index=[0])\n",
    "summary_table_df"
   ]
  },
  {
   "cell_type": "markdown",
   "metadata": {},
   "source": [
    "## Gender Demographics"
   ]
  },
  {
   "cell_type": "markdown",
   "metadata": {},
   "source": [
    "* Percentage and Count of Male Players\n",
    "\n",
    "\n",
    "* Percentage and Count of Female Players\n",
    "\n",
    "\n",
    "* Percentage and Count of Other / Non-Disclosed\n",
    "\n",
    "\n"
   ]
  },
  {
   "cell_type": "code",
   "execution_count": 58,
   "metadata": {},
   "outputs": [
    {
     "output_type": "execute_result",
     "data": {
      "text/plain": [
       "                       Total Player Count  Percentage of Total Players\n",
       "Male                                  484                        84.03\n",
       "Female                                 81                        14.06\n",
       "Other / Non-Disclosed                  11                         1.91"
      ],
      "text/html": "<div>\n<style scoped>\n    .dataframe tbody tr th:only-of-type {\n        vertical-align: middle;\n    }\n\n    .dataframe tbody tr th {\n        vertical-align: top;\n    }\n\n    .dataframe thead th {\n        text-align: right;\n    }\n</style>\n<table border=\"1\" class=\"dataframe\">\n  <thead>\n    <tr style=\"text-align: right;\">\n      <th></th>\n      <th>Total Player Count</th>\n      <th>Percentage of Total Players</th>\n    </tr>\n  </thead>\n  <tbody>\n    <tr>\n      <th>Male</th>\n      <td>484</td>\n      <td>84.03</td>\n    </tr>\n    <tr>\n      <th>Female</th>\n      <td>81</td>\n      <td>14.06</td>\n    </tr>\n    <tr>\n      <th>Other / Non-Disclosed</th>\n      <td>11</td>\n      <td>1.91</td>\n    </tr>\n  </tbody>\n</table>\n</div>"
     },
     "metadata": {},
     "execution_count": 58
    }
   ],
   "source": [
    "# create df for player info only\n",
    "player_data_df = purchase_data_df.loc[:, [\"SN\", \"Age\", \"Gender\"]]\n",
    "# drop duplicated from player df\n",
    "player_data_unique_df = player_data_df.drop_duplicates()\n",
    "# gather gender counts\n",
    "gender_count = player_data_unique_df[\"Gender\"].value_counts()\n",
    "# gather gender percentages and round values to 2 decimals\n",
    "gender_percentage = (player_data_unique_df[\"Gender\"].value_counts() / number_of_players)*100\n",
    "gender_percentage = gender_percentage.round(2)\n",
    "# create df that combines counts and percentages\n",
    "gender_demographics_df = pd.DataFrame({\"Total Player Count\": gender_count, \"Percentage of Total Players\": gender_percentage})\n",
    "gender_demographics_df"
   ]
  },
  {
   "cell_type": "markdown",
   "metadata": {},
   "source": [
    "\n",
    "## Purchasing Analysis (Gender)"
   ]
  },
  {
   "cell_type": "markdown",
   "metadata": {},
   "source": [
    "* Run basic calculations to obtain purchase count, avg. purchase price, avg. purchase total per person etc. by gender\n",
    "\n",
    "\n",
    "\n",
    "\n",
    "* Create a summary data frame to hold the results\n",
    "\n",
    "\n",
    "* Optional: give the displayed data cleaner formatting\n",
    "\n",
    "\n",
    "* Display the summary data frame"
   ]
  },
  {
   "cell_type": "code",
   "execution_count": 56,
   "metadata": {},
   "outputs": [
    {
     "output_type": "execute_result",
     "data": {
      "text/plain": [
       "                       Purchase Count  Total Purchase Value  \\\n",
       "Female                            113                361.94   \n",
       "Male                              652               1967.64   \n",
       "Other / Non-Disclosed              15                 50.19   \n",
       "\n",
       "                       Average Purchase Price  Purchase Price Per Player  \n",
       "Female                                   3.20                       4.47  \n",
       "Male                                     3.02                       4.07  \n",
       "Other / Non-Disclosed                    3.35                       4.56  "
      ],
      "text/html": "<div>\n<style scoped>\n    .dataframe tbody tr th:only-of-type {\n        vertical-align: middle;\n    }\n\n    .dataframe tbody tr th {\n        vertical-align: top;\n    }\n\n    .dataframe thead th {\n        text-align: right;\n    }\n</style>\n<table border=\"1\" class=\"dataframe\">\n  <thead>\n    <tr style=\"text-align: right;\">\n      <th></th>\n      <th>Purchase Count</th>\n      <th>Total Purchase Value</th>\n      <th>Average Purchase Price</th>\n      <th>Purchase Price Per Player</th>\n    </tr>\n  </thead>\n  <tbody>\n    <tr>\n      <th>Female</th>\n      <td>113</td>\n      <td>361.94</td>\n      <td>3.20</td>\n      <td>4.47</td>\n    </tr>\n    <tr>\n      <th>Male</th>\n      <td>652</td>\n      <td>1967.64</td>\n      <td>3.02</td>\n      <td>4.07</td>\n    </tr>\n    <tr>\n      <th>Other / Non-Disclosed</th>\n      <td>15</td>\n      <td>50.19</td>\n      <td>3.35</td>\n      <td>4.56</td>\n    </tr>\n  </tbody>\n</table>\n</div>"
     },
     "metadata": {},
     "execution_count": 56
    }
   ],
   "source": [
    "# create data frames of purchasing info by gender\n",
    "price_data_df = purchase_data_df.loc[:, [\"Gender\", \"Price\"]]\n",
    "\n",
    "# calculate purchase count by gender\n",
    "purchase_data_groupby_count_df = pd.DataFrame(price_data_df.groupby([\"Gender\"]).count())\n",
    "\n",
    "# calculate avg. purchase price by gender\n",
    "purchase_data_groupby_mean_df = pd.DataFrame(round(price_data_df.groupby([\"Gender\"]).mean(), 2))\n",
    "\n",
    "# calculate total purchase value by gender\n",
    "purchase_data_groupby_sum_df = pd.DataFrame(price_data_df.groupby([\"Gender\"]).sum())\n",
    "\n",
    "# calculate avg. purchase total per person by gender\n",
    "purchase_data_groupby_perplayer = round(purchase_data_groupby_sum_df[\"Price\"] / gender_demographics_df[\"Total Player Count\"], 2)\n",
    "purchase_data_groupby_perplayer_df = pd.DataFrame({\"Purchase Price Per Player\": purchase_data_groupby_perplayer})\n",
    "\n",
    "# create data frame containing results\n",
    "purchasing_analysis_gender_df = pd.merge(purchase_data_groupby_count_df, purchase_data_groupby_sum_df, on=\"Gender\")\n",
    "purchasing_analysis_gender_df = purchasing_analysis_gender_df.rename(columns={\"Price_x\": \"Purchase Count\", \"Price_y\": \"Total Purchase Value\"})\n",
    "purchasing_analysis_gender_df = pd.merge(purchasing_analysis_gender_df, purchase_data_groupby_mean_df, on=\"Gender\")\n",
    "purchasing_analysis_gender_df = purchasing_analysis_gender_df.rename(columns={\"Price\": \"Average Purchase Price\"})\n",
    "purchasing_analysis_gender_df = pd.concat([purchasing_analysis_gender_df, purchase_data_groupby_perplayer_df], axis=1)\n",
    "purchasing_analysis_gender_df"
   ]
  },
  {
   "cell_type": "markdown",
   "metadata": {},
   "source": [
    "## Age Demographics"
   ]
  },
  {
   "cell_type": "markdown",
   "metadata": {},
   "source": [
    "* Establish bins for ages\n",
    "\n",
    "\n",
    "* Categorize the existing players using the age bins. Hint: use pd.cut()\n",
    "\n",
    "\n",
    "* Calculate the numbers and percentages by age group\n",
    "\n",
    "\n",
    "* Create a summary data frame to hold the results\n",
    "\n",
    "\n",
    "* Optional: round the percentage column to two decimal points\n",
    "\n",
    "\n",
    "* Display Age Demographics Table\n"
   ]
  },
  {
   "cell_type": "code",
   "execution_count": 91,
   "metadata": {},
   "outputs": [
    {
     "output_type": "execute_result",
     "data": {
      "text/plain": [
       "       Total Purchase Value  Average Purchase Price  Purchase Price Per Person\n",
       "<10                   77.13                    3.35                       4.54\n",
       "10-14                 82.78                    2.96                       3.76\n",
       "15-19                412.89                    3.04                       3.86\n",
       "20-24               1114.06                    3.05                       4.32\n",
       "25-29                293.00                    2.90                       3.81\n",
       "30-34                214.00                    2.93                       4.12\n",
       "35-39                147.67                    3.60                       4.76\n",
       "40-44                 36.54                    3.04                       3.32\n",
       "45-49                  1.70                    1.70                       1.70"
      ],
      "text/html": "<div>\n<style scoped>\n    .dataframe tbody tr th:only-of-type {\n        vertical-align: middle;\n    }\n\n    .dataframe tbody tr th {\n        vertical-align: top;\n    }\n\n    .dataframe thead th {\n        text-align: right;\n    }\n</style>\n<table border=\"1\" class=\"dataframe\">\n  <thead>\n    <tr style=\"text-align: right;\">\n      <th></th>\n      <th>Total Purchase Value</th>\n      <th>Average Purchase Price</th>\n      <th>Purchase Price Per Person</th>\n    </tr>\n  </thead>\n  <tbody>\n    <tr>\n      <th>&lt;10</th>\n      <td>77.13</td>\n      <td>3.35</td>\n      <td>4.54</td>\n    </tr>\n    <tr>\n      <th>10-14</th>\n      <td>82.78</td>\n      <td>2.96</td>\n      <td>3.76</td>\n    </tr>\n    <tr>\n      <th>15-19</th>\n      <td>412.89</td>\n      <td>3.04</td>\n      <td>3.86</td>\n    </tr>\n    <tr>\n      <th>20-24</th>\n      <td>1114.06</td>\n      <td>3.05</td>\n      <td>4.32</td>\n    </tr>\n    <tr>\n      <th>25-29</th>\n      <td>293.00</td>\n      <td>2.90</td>\n      <td>3.81</td>\n    </tr>\n    <tr>\n      <th>30-34</th>\n      <td>214.00</td>\n      <td>2.93</td>\n      <td>4.12</td>\n    </tr>\n    <tr>\n      <th>35-39</th>\n      <td>147.67</td>\n      <td>3.60</td>\n      <td>4.76</td>\n    </tr>\n    <tr>\n      <th>40-44</th>\n      <td>36.54</td>\n      <td>3.04</td>\n      <td>3.32</td>\n    </tr>\n    <tr>\n      <th>45-49</th>\n      <td>1.70</td>\n      <td>1.70</td>\n      <td>1.70</td>\n    </tr>\n  </tbody>\n</table>\n</div>"
     },
     "metadata": {},
     "execution_count": 91
    }
   ],
   "source": [
    "#The below each broken into bins of 4 years (i.e. <10, 10-14, 15-19, etc.)\n",
    "bins = [0, 9, 14, 19, 24, 29, 34, 39, 44, 49]\n",
    "group_names = [\"<10\", \"10-14\", \"15-19\", \"20-24\", \"25-29\", \"30-34\", \"35-39\", \"40-44\", \"45-49\"]\n",
    "purchase_data_df[\"Age Range\"] = pd.cut(purchase_data_df[\"Age\"], bins, labels=group_names, include_lowest=True)\n",
    "age_data_df = purchase_data_df.loc[:, [\"Age Range\", \"Price\"]]\n",
    "\n",
    "#Average Purchase Price\n",
    "age_avg = round(age_data_df.groupby([\"Age Range\"]).mean(), 2)\n",
    "age_avg_df = pd.DataFrame(age_avg)\n",
    "\n",
    "#Total Purchase Value\n",
    "age_sum_df = pd.DataFrame(age_data_df.groupby([\"Age Range\"]).sum())\n",
    "age_sum_df\n",
    "\n",
    "#Average Purchase Total per Person by Age Group\n",
    "    # create df for player info only\n",
    "age_range_data_df = purchase_data_df.loc[:, [\"SN\", \"Age Range\", \"Gender\"]]\n",
    "    # drop duplicated from player df\n",
    "age_data_unique_df = age_range_data_df.drop_duplicates()\n",
    "    # gather gender counts\n",
    "age_count = age_data_unique_df[\"Age Range\"].value_counts()\n",
    "age_price_perperson = round(age_sum_df[\"Price\"] / age_count, 2)\n",
    "age_price_perperson_df = pd.DataFrame({\"Purchase Price Per Person\": age_price_perperson})\n",
    "\n",
    "#Summary data frame\n",
    "combined = pd.merge(age_sum_df, age_avg_df, on=\"Age Range\")\n",
    "combined = combined.rename(columns={\"Price_x\": \"Total Purchase Value\", \"Price_y\": \"Average Purchase Price\"})\n",
    "age_demographics_df = pd.concat([combined, age_price_perperson_df], axis=1)\n",
    "age_demographics_df"
   ]
  },
  {
   "cell_type": "markdown",
   "metadata": {},
   "source": [
    "## Purchasing Analysis (Age)"
   ]
  },
  {
   "cell_type": "markdown",
   "metadata": {},
   "source": [
    "* Bin the purchase_data data frame by age\n",
    "\n",
    "\n",
    "* Run basic calculations to obtain purchase count, avg. purchase price, avg. purchase total per person etc. in the table below\n",
    "\n",
    "\n",
    "* Create a summary data frame to hold the results\n",
    "\n",
    "\n",
    "* Optional: give the displayed data cleaner formatting\n",
    "\n",
    "\n",
    "* Display the summary data frame"
   ]
  },
  {
   "cell_type": "code",
   "execution_count": null,
   "metadata": {},
   "outputs": [],
   "source": []
  },
  {
   "cell_type": "markdown",
   "metadata": {},
   "source": [
    "## Top Spenders"
   ]
  },
  {
   "cell_type": "markdown",
   "metadata": {},
   "source": [
    "* Run basic calculations to obtain the results in the table below\n",
    "\n",
    "\n",
    "* Create a summary data frame to hold the results\n",
    "\n",
    "\n",
    "* Sort the total purchase value column in descending order\n",
    "\n",
    "\n",
    "* Optional: give the displayed data cleaner formatting\n",
    "\n",
    "\n",
    "* Display a preview of the summary data frame\n",
    "\n"
   ]
  },
  {
   "cell_type": "code",
   "execution_count": null,
   "metadata": {},
   "outputs": [],
   "source": []
  },
  {
   "cell_type": "markdown",
   "metadata": {},
   "source": [
    "## Most Popular Items"
   ]
  },
  {
   "cell_type": "markdown",
   "metadata": {},
   "source": [
    "* Retrieve the Item ID, Item Name, and Item Price columns\n",
    "\n",
    "\n",
    "* Group by Item ID and Item Name. Perform calculations to obtain purchase count, average item price, and total purchase value\n",
    "\n",
    "\n",
    "* Create a summary data frame to hold the results\n",
    "\n",
    "\n",
    "* Sort the purchase count column in descending order\n",
    "\n",
    "\n",
    "* Optional: give the displayed data cleaner formatting\n",
    "\n",
    "\n",
    "* Display a preview of the summary data frame\n",
    "\n"
   ]
  },
  {
   "cell_type": "code",
   "execution_count": null,
   "metadata": {},
   "outputs": [],
   "source": []
  },
  {
   "cell_type": "markdown",
   "metadata": {},
   "source": [
    "## Most Profitable Items"
   ]
  },
  {
   "cell_type": "markdown",
   "metadata": {},
   "source": [
    "* Sort the above table by total purchase value in descending order\n",
    "\n",
    "\n",
    "* Optional: give the displayed data cleaner formatting\n",
    "\n",
    "\n",
    "* Display a preview of the data frame\n",
    "\n"
   ]
  },
  {
   "cell_type": "code",
   "execution_count": null,
   "metadata": {
    "scrolled": true
   },
   "outputs": [],
   "source": []
  }
 ],
 "metadata": {
  "anaconda-cloud": {},
  "kernel_info": {
   "name": "python3"
  },
  "kernelspec": {
   "name": "python3710jvsc74a57bd0ac97be953db092153337d196dff28cd269b2245e0bae87498e32021eb0bea4fd",
   "display_name": "Python 3.7.10 64-bit ('PythonDataConda': conda)"
  },
  "language_info": {
   "codemirror_mode": {
    "name": "ipython",
    "version": 3
   },
   "file_extension": ".py",
   "mimetype": "text/x-python",
   "name": "python",
   "nbconvert_exporter": "python",
   "pygments_lexer": "ipython3",
   "version": "3.7.10-final"
  },
  "latex_envs": {
   "LaTeX_envs_menu_present": true,
   "autoclose": false,
   "autocomplete": true,
   "bibliofile": "biblio.bib",
   "cite_by": "apalike",
   "current_citInitial": 1,
   "eqLabelWithNumbers": true,
   "eqNumInitial": 1,
   "hotkeys": {
    "equation": "Ctrl-E",
    "itemize": "Ctrl-I"
   },
   "labels_anchors": false,
   "latex_user_defs": false,
   "report_style_numbering": false,
   "user_envs_cfg": false
  },
  "nteract": {
   "version": "0.2.0"
  }
 },
 "nbformat": 4,
 "nbformat_minor": 2
}